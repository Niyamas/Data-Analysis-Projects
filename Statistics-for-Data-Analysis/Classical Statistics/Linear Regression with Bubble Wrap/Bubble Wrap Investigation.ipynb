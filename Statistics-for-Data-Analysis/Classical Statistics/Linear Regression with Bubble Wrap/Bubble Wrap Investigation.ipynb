{
 "cells": [
  {
   "cell_type": "markdown",
   "metadata": {},
   "source": [
    "# Introduction\n",
    "\n",
    "The statsmodels library supports linear regression by wrapping the ordinary least squares (OLS) method into a useful function. Here is an example of how to use it with sample data.\n",
    "\n",
    "## Load libraries"
   ]
  },
  {
   "cell_type": "code",
   "execution_count": 1,
   "metadata": {},
   "outputs": [],
   "source": [
    "# Math & data\n",
    "import numpy as np\n",
    "import pandas as pd\n",
    "\n",
    "# Stats\n",
    "import statsmodels.api as sm\n",
    "\n",
    "# Plotting\n",
    "import matplotlib.pyplot as plt\n",
    "import seaborn as sns\n",
    "%matplotlib inline"
   ]
  },
  {
   "cell_type": "markdown",
   "metadata": {},
   "source": [
    "## Load data"
   ]
  },
  {
   "cell_type": "code",
   "execution_count": 2,
   "metadata": {},
   "outputs": [
    {
     "data": {
      "text/html": [
       "<div>\n",
       "<style scoped>\n",
       "    .dataframe tbody tr th:only-of-type {\n",
       "        vertical-align: middle;\n",
       "    }\n",
       "\n",
       "    .dataframe tbody tr th {\n",
       "        vertical-align: top;\n",
       "    }\n",
       "\n",
       "    .dataframe thead th {\n",
       "        text-align: right;\n",
       "    }\n",
       "</style>\n",
       "<table border=\"1\" class=\"dataframe\">\n",
       "  <thead>\n",
       "    <tr style=\"text-align: right;\">\n",
       "      <th></th>\n",
       "      <th>Name</th>\n",
       "      <th>Length (in)</th>\n",
       "      <th>Width (in)</th>\n",
       "      <th>Thickness (in)</th>\n",
       "      <th>Total Square (in)</th>\n",
       "      <th>Perforation line (in)</th>\n",
       "      <th># Sold</th>\n",
       "      <th>URL</th>\n",
       "      <th>Price ($)</th>\n",
       "    </tr>\n",
       "  </thead>\n",
       "  <tbody>\n",
       "    <tr>\n",
       "      <th>0</th>\n",
       "      <td>Yens® 3/16\"x 12\" Small Bubbles Perforated 700 ...</td>\n",
       "      <td>8400</td>\n",
       "      <td>12</td>\n",
       "      <td>0.1875</td>\n",
       "      <td>100800</td>\n",
       "      <td>12.0</td>\n",
       "      <td>10000.0</td>\n",
       "      <td>https://www.ebay.com/itm/Yens-3-16-x-12-Small-...</td>\n",
       "      <td>30.99</td>\n",
       "    </tr>\n",
       "    <tr>\n",
       "      <th>1</th>\n",
       "      <td>50 Foot Bubble Wrap® Roll! 3/16\" (Small) Bubbl...</td>\n",
       "      <td>600</td>\n",
       "      <td>12</td>\n",
       "      <td>0.1875</td>\n",
       "      <td>7200</td>\n",
       "      <td>12.0</td>\n",
       "      <td>NaN</td>\n",
       "      <td>https://www.ebay.com/itm/50-Foot-Bubble-Wrap-R...</td>\n",
       "      <td>6.45</td>\n",
       "    </tr>\n",
       "    <tr>\n",
       "      <th>2</th>\n",
       "      <td>Super Bubble 3/16\"x 12\" Wide Mailing 700 ft bu...</td>\n",
       "      <td>8400</td>\n",
       "      <td>12</td>\n",
       "      <td>0.2000</td>\n",
       "      <td>100800</td>\n",
       "      <td>NaN</td>\n",
       "      <td>3759.0</td>\n",
       "      <td>https://www.ebay.com/itm/Super-Bubble-3-16-x-1...</td>\n",
       "      <td>30.95</td>\n",
       "    </tr>\n",
       "    <tr>\n",
       "      <th>3</th>\n",
       "      <td>50 Foot LARGE Bubble Wrap® Roll 12\" Wide! 1/2\"...</td>\n",
       "      <td>600</td>\n",
       "      <td>12</td>\n",
       "      <td>0.5000</td>\n",
       "      <td>7200</td>\n",
       "      <td>12.0</td>\n",
       "      <td>10000.0</td>\n",
       "      <td>https://www.ebay.com/itm/50-Foot-LARGE-Bubble-...</td>\n",
       "      <td>8.19</td>\n",
       "    </tr>\n",
       "    <tr>\n",
       "      <th>4</th>\n",
       "      <td>100' Bubble Wrap® Roll (SMALL) 3/16\" Bubble! 1...</td>\n",
       "      <td>1200</td>\n",
       "      <td>12</td>\n",
       "      <td>0.1875</td>\n",
       "      <td>14400</td>\n",
       "      <td>12.0</td>\n",
       "      <td>NaN</td>\n",
       "      <td>https://www.ebay.com/itm/100-Bubble-Wrap-Roll-...</td>\n",
       "      <td>9.89</td>\n",
       "    </tr>\n",
       "  </tbody>\n",
       "</table>\n",
       "</div>"
      ],
      "text/plain": [
       "                                                Name  Length (in)  Width (in)  \\\n",
       "0  Yens® 3/16\"x 12\" Small Bubbles Perforated 700 ...         8400          12   \n",
       "1  50 Foot Bubble Wrap® Roll! 3/16\" (Small) Bubbl...          600          12   \n",
       "2  Super Bubble 3/16\"x 12\" Wide Mailing 700 ft bu...         8400          12   \n",
       "3  50 Foot LARGE Bubble Wrap® Roll 12\" Wide! 1/2\"...          600          12   \n",
       "4  100' Bubble Wrap® Roll (SMALL) 3/16\" Bubble! 1...         1200          12   \n",
       "\n",
       "   Thickness (in)  Total Square (in)  Perforation line (in)   # Sold  \\\n",
       "0          0.1875             100800                   12.0  10000.0   \n",
       "1          0.1875               7200                   12.0      NaN   \n",
       "2          0.2000             100800                    NaN   3759.0   \n",
       "3          0.5000               7200                   12.0  10000.0   \n",
       "4          0.1875              14400                   12.0      NaN   \n",
       "\n",
       "                                                 URL  Price ($)  \n",
       "0  https://www.ebay.com/itm/Yens-3-16-x-12-Small-...      30.99  \n",
       "1  https://www.ebay.com/itm/50-Foot-Bubble-Wrap-R...       6.45  \n",
       "2  https://www.ebay.com/itm/Super-Bubble-3-16-x-1...      30.95  \n",
       "3  https://www.ebay.com/itm/50-Foot-LARGE-Bubble-...       8.19  \n",
       "4  https://www.ebay.com/itm/100-Bubble-Wrap-Roll-...       9.89  "
      ]
     },
     "execution_count": 2,
     "metadata": {},
     "output_type": "execute_result"
    }
   ],
   "source": [
    "data = pd.read_excel('bubble wrap.xlsx')\n",
    "data.head()"
   ]
  },
  {
   "cell_type": "markdown",
   "metadata": {},
   "source": [
    "# 1. Data Exploration"
   ]
  },
  {
   "cell_type": "code",
   "execution_count": 3,
   "metadata": {},
   "outputs": [
    {
     "data": {
      "text/html": [
       "<div>\n",
       "<style scoped>\n",
       "    .dataframe tbody tr th:only-of-type {\n",
       "        vertical-align: middle;\n",
       "    }\n",
       "\n",
       "    .dataframe tbody tr th {\n",
       "        vertical-align: top;\n",
       "    }\n",
       "\n",
       "    .dataframe thead th {\n",
       "        text-align: right;\n",
       "    }\n",
       "</style>\n",
       "<table border=\"1\" class=\"dataframe\">\n",
       "  <thead>\n",
       "    <tr style=\"text-align: right;\">\n",
       "      <th></th>\n",
       "      <th>count</th>\n",
       "      <th>mean</th>\n",
       "      <th>std</th>\n",
       "      <th>min</th>\n",
       "      <th>25%</th>\n",
       "      <th>50%</th>\n",
       "      <th>75%</th>\n",
       "      <th>max</th>\n",
       "    </tr>\n",
       "  </thead>\n",
       "  <tbody>\n",
       "    <tr>\n",
       "      <th>Length (in)</th>\n",
       "      <td>16.0</td>\n",
       "      <td>4725.00</td>\n",
       "      <td>3585.81</td>\n",
       "      <td>600.00</td>\n",
       "      <td>600.00</td>\n",
       "      <td>4200.00</td>\n",
       "      <td>8400.00</td>\n",
       "      <td>8400.00</td>\n",
       "    </tr>\n",
       "    <tr>\n",
       "      <th>Width (in)</th>\n",
       "      <td>16.0</td>\n",
       "      <td>12.00</td>\n",
       "      <td>0.00</td>\n",
       "      <td>12.00</td>\n",
       "      <td>12.00</td>\n",
       "      <td>12.00</td>\n",
       "      <td>12.00</td>\n",
       "      <td>12.00</td>\n",
       "    </tr>\n",
       "    <tr>\n",
       "      <th>Thickness (in)</th>\n",
       "      <td>16.0</td>\n",
       "      <td>0.24</td>\n",
       "      <td>0.11</td>\n",
       "      <td>0.19</td>\n",
       "      <td>0.19</td>\n",
       "      <td>0.19</td>\n",
       "      <td>0.19</td>\n",
       "      <td>0.50</td>\n",
       "    </tr>\n",
       "    <tr>\n",
       "      <th>Total Square (in)</th>\n",
       "      <td>16.0</td>\n",
       "      <td>56700.00</td>\n",
       "      <td>43029.66</td>\n",
       "      <td>7200.00</td>\n",
       "      <td>7200.00</td>\n",
       "      <td>50400.00</td>\n",
       "      <td>100800.00</td>\n",
       "      <td>100800.00</td>\n",
       "    </tr>\n",
       "    <tr>\n",
       "      <th>Perforation line (in)</th>\n",
       "      <td>14.0</td>\n",
       "      <td>12.00</td>\n",
       "      <td>0.00</td>\n",
       "      <td>12.00</td>\n",
       "      <td>12.00</td>\n",
       "      <td>12.00</td>\n",
       "      <td>12.00</td>\n",
       "      <td>12.00</td>\n",
       "    </tr>\n",
       "    <tr>\n",
       "      <th># Sold</th>\n",
       "      <td>13.0</td>\n",
       "      <td>4570.92</td>\n",
       "      <td>4150.46</td>\n",
       "      <td>304.00</td>\n",
       "      <td>1018.00</td>\n",
       "      <td>2525.00</td>\n",
       "      <td>10000.00</td>\n",
       "      <td>10000.00</td>\n",
       "    </tr>\n",
       "    <tr>\n",
       "      <th>Price ($)</th>\n",
       "      <td>16.0</td>\n",
       "      <td>22.04</td>\n",
       "      <td>12.97</td>\n",
       "      <td>6.45</td>\n",
       "      <td>8.14</td>\n",
       "      <td>21.84</td>\n",
       "      <td>31.75</td>\n",
       "      <td>39.95</td>\n",
       "    </tr>\n",
       "  </tbody>\n",
       "</table>\n",
       "</div>"
      ],
      "text/plain": [
       "                       count      mean       std      min      25%       50%  \\\n",
       "Length (in)             16.0   4725.00   3585.81   600.00   600.00   4200.00   \n",
       "Width (in)              16.0     12.00      0.00    12.00    12.00     12.00   \n",
       "Thickness (in)          16.0      0.24      0.11     0.19     0.19      0.19   \n",
       "Total Square (in)       16.0  56700.00  43029.66  7200.00  7200.00  50400.00   \n",
       "Perforation line (in)   14.0     12.00      0.00    12.00    12.00     12.00   \n",
       "# Sold                  13.0   4570.92   4150.46   304.00  1018.00   2525.00   \n",
       "Price ($)               16.0     22.04     12.97     6.45     8.14     21.84   \n",
       "\n",
       "                             75%        max  \n",
       "Length (in)              8400.00    8400.00  \n",
       "Width (in)                 12.00      12.00  \n",
       "Thickness (in)              0.19       0.50  \n",
       "Total Square (in)      100800.00  100800.00  \n",
       "Perforation line (in)      12.00      12.00  \n",
       "# Sold                  10000.00   10000.00  \n",
       "Price ($)                  31.75      39.95  "
      ]
     },
     "execution_count": 3,
     "metadata": {},
     "output_type": "execute_result"
    }
   ],
   "source": [
    "round(data.describe().T, 2)"
   ]
  },
  {
   "cell_type": "code",
   "execution_count": 4,
   "metadata": {},
   "outputs": [
    {
     "data": {
      "image/png": "[encoded data removed]",
      "text/plain": [
       "<Figure size 1008x432 with 1 Axes>"
      ]
     },
     "metadata": {
      "needs_background": "light"
     },
     "output_type": "display_data"
    }
   ],
   "source": [
    "fig, ax = plt.subplots(figsize=(14,6))\n",
    "\n",
    "sns.scatterplot(x=data['Total Square (in)'], y=data['Price ($)'], ax=ax)\n",
    "ax.set_title('Total Square Inches vs Price of Bubble Wrap');"
   ]
  },
  {
   "cell_type": "markdown",
   "metadata": {},
   "source": [
    "## Linear regression"
   ]
  },
  {
   "cell_type": "code",
   "execution_count": 6,
   "metadata": {},
   "outputs": [
    {
     "name": "stderr",
     "output_type": "stream",
     "text": [
      "C:\\Users\\moogl\\Anaconda3\\lib\\site-packages\\numpy\\core\\fromnumeric.py:2389: FutureWarning: Method .ptp is deprecated and will be removed in a future version. Use numpy.ptp instead.\n",
      "  return ptp(axis=axis, out=out, **kwargs)\n",
      "C:\\Users\\moogl\\Anaconda3\\lib\\site-packages\\scipy\\stats\\stats.py:1450: UserWarning: kurtosistest only valid for n>=20 ... continuing anyway, n=16\n",
      "  \"anyway, n=%i\" % int(n))\n"
     ]
    },
    {
     "data": {
      "text/html": [
       "<table class=\"simpletable\">\n",
       "<caption>OLS Regression Results</caption>\n",
       "<tr>\n",
       "  <th>Dep. Variable:</th>        <td>Price ($)</td>    <th>  R-squared:         </th> <td>   0.942</td>\n",
       "</tr>\n",
       "<tr>\n",
       "  <th>Model:</th>                   <td>OLS</td>       <th>  Adj. R-squared:    </th> <td>   0.938</td>\n",
       "</tr>\n",
       "<tr>\n",
       "  <th>Method:</th>             <td>Least Squares</td>  <th>  F-statistic:       </th> <td>   229.2</td>\n",
       "</tr>\n",
       "<tr>\n",
       "  <th>Date:</th>             <td>Sat, 19 Oct 2019</td> <th>  Prob (F-statistic):</th> <td>4.50e-10</td>\n",
       "</tr>\n",
       "<tr>\n",
       "  <th>Time:</th>                 <td>15:32:09</td>     <th>  Log-Likelihood:    </th> <td> -40.350</td>\n",
       "</tr>\n",
       "<tr>\n",
       "  <th>No. Observations:</th>      <td>    16</td>      <th>  AIC:               </th> <td>   84.70</td>\n",
       "</tr>\n",
       "<tr>\n",
       "  <th>Df Residuals:</th>          <td>    14</td>      <th>  BIC:               </th> <td>   86.25</td>\n",
       "</tr>\n",
       "<tr>\n",
       "  <th>Df Model:</th>              <td>     1</td>      <th>                     </th>     <td> </td>   \n",
       "</tr>\n",
       "<tr>\n",
       "  <th>Covariance Type:</th>      <td>nonrobust</td>    <th>                     </th>     <td> </td>   \n",
       "</tr>\n",
       "</table>\n",
       "<table class=\"simpletable\">\n",
       "<tr>\n",
       "          <td></td>             <th>coef</th>     <th>std err</th>      <th>t</th>      <th>P>|t|</th>  <th>[0.025</th>    <th>0.975]</th>  \n",
       "</tr>\n",
       "<tr>\n",
       "  <th>const</th>             <td>    5.4459</td> <td>    1.360</td> <td>    4.004</td> <td> 0.001</td> <td>    2.529</td> <td>    8.363</td>\n",
       "</tr>\n",
       "<tr>\n",
       "  <th>Total Square (in)</th> <td>    0.0003</td> <td> 1.93e-05</td> <td>   15.140</td> <td> 0.000</td> <td>    0.000</td> <td>    0.000</td>\n",
       "</tr>\n",
       "</table>\n",
       "<table class=\"simpletable\">\n",
       "<tr>\n",
       "  <th>Omnibus:</th>       <td> 1.716</td> <th>  Durbin-Watson:     </th> <td>   2.635</td>\n",
       "</tr>\n",
       "<tr>\n",
       "  <th>Prob(Omnibus):</th> <td> 0.424</td> <th>  Jarque-Bera (JB):  </th> <td>   1.116</td>\n",
       "</tr>\n",
       "<tr>\n",
       "  <th>Skew:</th>          <td> 0.364</td> <th>  Prob(JB):          </th> <td>   0.572</td>\n",
       "</tr>\n",
       "<tr>\n",
       "  <th>Kurtosis:</th>      <td> 1.930</td> <th>  Cond. No.          </th> <td>1.19e+05</td>\n",
       "</tr>\n",
       "</table><br/><br/>Warnings:<br/>[1] Standard Errors assume that the covariance matrix of the errors is correctly specified.<br/>[2] The condition number is large, 1.19e+05. This might indicate that there are<br/>strong multicollinearity or other numerical problems."
      ],
      "text/plain": [
       "<class 'statsmodels.iolib.summary.Summary'>\n",
       "\"\"\"\n",
       "                            OLS Regression Results                            \n",
       "==============================================================================\n",
       "Dep. Variable:              Price ($)   R-squared:                       0.942\n",
       "Model:                            OLS   Adj. R-squared:                  0.938\n",
       "Method:                 Least Squares   F-statistic:                     229.2\n",
       "Date:                Sat, 19 Oct 2019   Prob (F-statistic):           4.50e-10\n",
       "Time:                        15:32:09   Log-Likelihood:                -40.350\n",
       "No. Observations:                  16   AIC:                             84.70\n",
       "Df Residuals:                      14   BIC:                             86.25\n",
       "Df Model:                           1                                         \n",
       "Covariance Type:            nonrobust                                         \n",
       "=====================================================================================\n",
       "                        coef    std err          t      P>|t|      [0.025      0.975]\n",
       "-------------------------------------------------------------------------------------\n",
       "const                 5.4459      1.360      4.004      0.001       2.529       8.363\n",
       "Total Square (in)     0.0003   1.93e-05     15.140      0.000       0.000       0.000\n",
       "==============================================================================\n",
       "Omnibus:                        1.716   Durbin-Watson:                   2.635\n",
       "Prob(Omnibus):                  0.424   Jarque-Bera (JB):                1.116\n",
       "Skew:                           0.364   Prob(JB):                        0.572\n",
       "Kurtosis:                       1.930   Cond. No.                     1.19e+05\n",
       "==============================================================================\n",
       "\n",
       "Warnings:\n",
       "[1] Standard Errors assume that the covariance matrix of the errors is correctly specified.\n",
       "[2] The condition number is large, 1.19e+05. This might indicate that there are\n",
       "strong multicollinearity or other numerical problems.\n",
       "\"\"\""
      ]
     },
     "execution_count": 6,
     "metadata": {},
     "output_type": "execute_result"
    }
   ],
   "source": [
    "x = sm.add_constant(data['Total Square (in)'])\n",
    "model = sm.OLS(data['Price ($)'], x)\n",
    "results = model.fit()\n",
    "results.summary()"
   ]
  },
  {
   "cell_type": "markdown",
   "metadata": {},
   "source": [
    "__Linear regression equation:__\n",
    "\n",
    "$y_h = b_0 + b_1x_1$\n",
    "\n",
    "Looking at the results above, we have: $b_1$ = 5.4459 and $b_0$ = 0.0003\n",
    "\n",
    "Let's plot the trendline!"
   ]
  },
  {
   "cell_type": "code",
   "execution_count": 7,
   "metadata": {},
   "outputs": [
    {
     "data": {
      "image/png": "[encoded data removed]",
      "text/plain": [
       "<Figure size 1008x432 with 1 Axes>"
      ]
     },
     "metadata": {
      "needs_background": "light"
     },
     "output_type": "display_data"
    }
   ],
   "source": [
    "# Linear regression equation\n",
    "y_hat = 5.4459 + 0.0003*data['Total Square (in)']\n",
    "\n",
    "# Plot data with regression line\n",
    "fig, ax = plt.subplots(figsize=(14,6))\n",
    "\n",
    "sns.scatterplot(x=data['Total Square (in)'], y=data['Price ($)'], ax=ax)\n",
    "sns.lineplot(x=data['Total Square (in)'], y=y_hat, ax=ax, color='Orange')\n",
    "ax.set_title('Total Square Inches vs Price of Bubble Wrap');"
   ]
  },
  {
   "cell_type": "markdown",
   "metadata": {},
   "source": [
    "## Next steps\n",
    "Add another dimension to the graph: # sold. Can either do a color scale where colors are represented by the amount of items sold, or by circle sizes determined by the amount as well."
   ]
  }
 ],
 "metadata": {
  "kernelspec": {
   "display_name": "Python 3",
   "language": "python",
   "name": "python3"
  },
  "language_info": {
   "codemirror_mode": {
    "name": "ipython",
    "version": 3
   },
   "file_extension": ".py",
   "mimetype": "text/x-python",
   "name": "python",
   "nbconvert_exporter": "python",
   "pygments_lexer": "ipython3",
   "version": "3.6.9"
  }
 },
 "nbformat": 4,
 "nbformat_minor": 4
}
