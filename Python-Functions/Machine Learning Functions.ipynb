{
 "cells": [
  {
   "cell_type": "markdown",
   "metadata": {},
   "source": [
    "# Machine Learning Functions\n",
    "> Updated 10/2/2019\n",
    "\n",
    "## GridSearchCV\n",
    "Subsitute the estimator for any other one such as SVM (currently random forest)."
   ]
  },
  {
   "cell_type": "code",
   "execution_count": null,
   "metadata": {},
   "outputs": [],
   "source": [
    "from sklearn.model_selection import GridSearchCV\n",
    "\n",
    "def grid_search(X, y):\n",
    "    \"\"\"\n",
    "    Prints the best hyperparameters to use for the classifier. Please edit the estimator and params_for_tuning\n",
    "    to suit your needs.\n",
    "    ----------\n",
    "    X: X_train\n",
    "    y: y_train\n",
    "    \"\"\"\n",
    "    params_for_tuning = [ {'min_samples_split': np.arange(2, 6, 1).tolist(),\n",
    "                           'min_samples_leaf': np.arange(1, 5, 1).tolist(),\n",
    "                           'min_weight_fraction_leaf': [0.01, 0.02, 0.03, 0.04, 0.05],\n",
    "                           'max_features': ['auto', 'sqrt', 'log2'],\n",
    "                           'bootstrap': ['False, True'],\n",
    "                           } ]\n",
    "\n",
    "    clf = GridSearchCV(estimator=RandomForestClassifier(random_state=1),\n",
    "                           param_grid=params_for_tuning)\n",
    "    clf.fit(X_train, y_train)\n",
    "\n",
    "    print('Best parameters:', clf.best_params_)"
   ]
  },
  {
   "cell_type": "code",
   "execution_count": null,
   "metadata": {},
   "outputs": [],
   "source": [
    "# thanks to: https://medium.com/@aneesha/svm-parameter-tuning-in-scikit-learn-using-gridsearchcv-2413c02125a0\n",
    "def svc_param_selection(X, y, nfolds):\n",
    "    \"\"\"\n",
    "    Prints the best hyperparameters to use for the classifier. Please edit the estimator and parameters\n",
    "    to suit your needs.\n",
    "    ----------\n",
    "    X: X_train\n",
    "    y: y_train\n",
    "    nfolds: Number of folds to use in cross validation\n",
    "    \"\"\"    \n",
    "    # Define hyperparameter values to go through\n",
    "    Cs = [0.001, 0.01, 0.1, 1, 10]\n",
    "    gammas = [0.001, 0.01, 0.1, 1, 'auto', 'scale']\n",
    "    \n",
    "    # Store hyperparameters in dictionary\n",
    "    param_grid = {'C': Cs, 'gamma' : gammas, 'probability': [True, False]}\n",
    "    \n",
    "    # Run GridSearchCV & fit. Change the estimator from svm to another if needed\n",
    "    grid_search = GridSearchCV(svm.SVC(kernel='rbf'), param_grid, cv=nfolds)\n",
    "    grid_search.fit(X, y)\n",
    "    grid_search.best_params_\n",
    "    \n",
    "    # Return best \n",
    "    return grid_search.best_params_\n",
    "\n",
    "# Run GridSearchCV with 8 folds cross validation using SVM as the estimator\n",
    "svc_param_selection(X, y, 8)"
   ]
  }
 ],
 "metadata": {
  "kernelspec": {
   "display_name": "Python 3",
   "language": "python",
   "name": "python3"
  },
  "language_info": {
   "codemirror_mode": {
    "name": "ipython",
    "version": 3
   },
   "file_extension": ".py",
   "mimetype": "text/x-python",
   "name": "python",
   "nbconvert_exporter": "python",
   "pygments_lexer": "ipython3",
   "version": "3.6.9"
  }
 },
 "nbformat": 4,
 "nbformat_minor": 4
}
