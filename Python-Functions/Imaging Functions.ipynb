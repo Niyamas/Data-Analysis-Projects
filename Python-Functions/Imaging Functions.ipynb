{
 "cells": [
  {
   "cell_type": "markdown",
   "metadata": {},
   "source": [
    "# Imaging Functions\n",
    "> Updated: 7/4/2019"
   ]
  },
  {
   "cell_type": "code",
   "execution_count": null,
   "metadata": {},
   "outputs": [],
   "source": [
    "def compare_images(image1, image2):\n",
    "    \"\"\"\n",
    "    Used with conjunction with the Pillow library. This function returns true if the images are the same with regards\n",
    "    to their: 1) dimensions and 2) RGB pixel values.\n",
    "    \n",
    "    Special thanks to Harry Lewis: https://stackoverflow.com/questions/51688179/check-if-there-is-exactly-the-same-image-as-input-image/51689857#51689857\n",
    "    \n",
    "    Parameters\n",
    "    ----------\n",
    "    image1: A PIL.Image.Image object\n",
    "    image2: A PIL.Image.Image object\n",
    "    \"\"\"\n",
    "    # compare image dimensions\n",
    "    if image1.size != image2.size:\n",
    "        return False\n",
    "    \n",
    "    width, height = first_image.size\n",
    "    \n",
    "    for row in range(width):\n",
    "        for col in range(height):\n",
    "            image1_pixel = image1.getpixel((row, col))\n",
    "            image2_pixel = image2.getpixel((row, col))\n",
    "            \n",
    "            if image1_pixel != image2_pixel:\n",
    "                return False\n",
    "            \n",
    "    return True"
   ]
  }
 ],
 "metadata": {
  "kernelspec": {
   "display_name": "Python 3",
   "language": "python",
   "name": "python3"
  },
  "language_info": {
   "codemirror_mode": {
    "name": "ipython",
    "version": 3
   },
   "file_extension": ".py",
   "mimetype": "text/x-python",
   "name": "python",
   "nbconvert_exporter": "python",
   "pygments_lexer": "ipython3",
   "version": "3.6.9"
  }
 },
 "nbformat": 4,
 "nbformat_minor": 2
}
