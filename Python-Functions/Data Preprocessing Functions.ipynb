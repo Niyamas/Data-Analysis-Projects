{
 "cells": [
  {
   "cell_type": "markdown",
   "metadata": {},
   "source": [
    "# Data Preprocessing Functions\n",
    "> Updated 10/2/2019"
   ]
  },
  {
   "cell_type": "code",
   "execution_count": 3,
   "metadata": {
    "collapsed": true,
    "jupyter": {
     "outputs_hidden": true
    }
   },
   "outputs": [],
   "source": [
    "def percent_NA(data):\n",
    "    \"\"\"\n",
    "    Returns a pandas dataframe denoting the total number of NA values and the percentage of NA values in each column.\n",
    "    The column names are noted on the index.\n",
    "    \n",
    "    Parameters\n",
    "    ----------\n",
    "    data: dataframe\n",
    "    \"\"\"\n",
    "    # pandas series denoting features and the sum of their null values\n",
    "    null_sum = data.isnull().sum()\n",
    "\n",
    "    # instantiate columns for missing data\n",
    "    total = null_sum.sort_values(ascending=False)\n",
    "    percent = ( ((null_sum / len(data.index))*100).round(2) ).sort_values(ascending=False)\n",
    "    \n",
    "    # concatenate along the columns to create the complete dataframe\n",
    "    df_NA = pd.concat([total, percent], axis=1, keys=['Number of NA', 'Percent NA'])\n",
    "    \n",
    "    # drop rows that don't have any missing data; omit if you want to keep all rows\n",
    "    df_NA = df_NA[ (df_NA.T != 0).any() ]\n",
    "    \n",
    "    return df_NA"
   ]
  },
  {
   "cell_type": "code",
   "execution_count": 2,
   "metadata": {
    "collapsed": true,
    "jupyter": {
     "outputs_hidden": true
    }
   },
   "outputs": [],
   "source": [
    "def drop_vars(data):\n",
    "    \"\"\"\n",
    "    Drops features with missing values greater than 40%.\n",
    "    \n",
    "    Parameters\n",
    "    ----------\n",
    "    data : dataframe\n",
    "    \"\"\"\n",
    "    \n",
    "    # instantiate columns for missing data\n",
    "    percent = ( (data.isnull().sum() / data.isnull().count())*100 ).sort_values(ascending=False)\n",
    "    \n",
    "    # pandas dataframe containing percentage of null data\n",
    "    missing_values = pd.DataFrame(percent, columns=['Percent'])\n",
    "    \n",
    "    # boolean denoting features with missing values above 40%\n",
    "    is_greater_40 = missing_values['Percent'] > 40\n",
    "    \n",
    "    # drop features with missing values above 40%\n",
    "    data = data.drop( (missing_values[is_greater_40]).index, axis=1 )   # drop columns with percent > 40%\n",
    "    \n",
    "    return data"
   ]
  },
  {
   "cell_type": "code",
   "execution_count": 1,
   "metadata": {},
   "outputs": [],
   "source": [
    "def group_xy(col1, col2):\n",
    "    '''\n",
    "    Groups integers xn, yn from two columns into the form: [[x1, y1], [x2, y2]...[xn, yn]]. A form suitable for K-means.\n",
    "    \n",
    "    Parameters\n",
    "    ----------\n",
    "    col1: xn column\n",
    "    col2: yn column\n",
    "    '''\n",
    "    data_trans = []\n",
    "    \n",
    "    for i in range(len(col1)):\n",
    "        data_trans.append([ col1.iloc[i], col2.iloc[i] ])\n",
    "    \n",
    "    return data_trans"
   ]
  },
  {
   "cell_type": "code",
   "execution_count": 1,
   "metadata": {
    "collapsed": true,
    "jupyter": {
     "outputs_hidden": true
    }
   },
   "outputs": [],
   "source": [
    "from sklearn.preprocessing import LabelEncoder\n",
    "\n",
    "def encode_categoricals(data, cols):\n",
    "    \"\"\"\n",
    "    Encodes categorical variables with no NA values. Takes in a dataframe and the columns to encode. \n",
    "    Not one hot encoding.\n",
    "    \n",
    "    Parameters\n",
    "    ----------\n",
    "    data : dataframe\n",
    "    cols: columns/variables to encode\n",
    "    \"\"\"\n",
    "    # Instantiate LabelEncoder\n",
    "    le = LabelEncoder()\n",
    "\n",
    "    for items in cols_to_encode:\n",
    "        data[cols_to_encode] = data[cols_to_encode].apply(le.fit_transform)\n",
    "    \n",
    "    return data"
   ]
  },
  {
   "cell_type": "code",
   "execution_count": null,
   "metadata": {},
   "outputs": [],
   "source": [
    "def standardize(data):\n",
    "    \"\"\"\n",
    "    Standardizes the data by subtracting the data's mean from all the data points and scales to unit variance function.\n",
    "    \n",
    "    Code provided by: \"https://stackoverflow.com/questions/31152967/normalise-2d-numpy-array-zero-mean-unit-variance\"\n",
    "    \n",
    "    Parameters\n",
    "    ----------\n",
    "    data : data\n",
    "    \"\"\"\n",
    "    standardized = (data - data.mean(axis=0)) / data.std(axis=0)\n",
    "    return standardized\n",
    "\n",
    "def destandardize(standardized_data, data):\n",
    "    \"\"\"\n",
    "    De-standardizes the data.\n",
    "        \n",
    "    Parameters\n",
    "    ----------\n",
    "    standardized_data: standardized data\n",
    "    data : original data\n",
    "    \"\"\"\n",
    "    \n",
    "    destandardized = standardized_data*data.std(axis=0) + data.mean(axis=0)\n",
    "    return destandardized"
   ]
  },
  {
   "cell_type": "code",
   "execution_count": null,
   "metadata": {},
   "outputs": [],
   "source": [
    "def process_dates(data, col_name):\n",
    "    \"\"\"\n",
    "    Converts dates to datetime variables.\n",
    "    \n",
    "    Parameters\n",
    "    ----------\n",
    "    data : data\n",
    "    col_name: string name of column with dates\n",
    "    \"\"\"\n",
    "    data[col_name] = data.index.map(lambda x: data[col_name][x].split()[0])   # x is the columnar object before .map()\n",
    "    data[col_name] = pd.to_datetime(data[col_name])\n",
    "    return data"
   ]
  }
 ],
 "metadata": {
  "kernelspec": {
   "display_name": "Python 3",
   "language": "python",
   "name": "python3"
  },
  "language_info": {
   "codemirror_mode": {
    "name": "ipython",
    "version": 3
   },
   "file_extension": ".py",
   "mimetype": "text/x-python",
   "name": "python",
   "nbconvert_exporter": "python",
   "pygments_lexer": "ipython3",
   "version": "3.6.9"
  }
 },
 "nbformat": 4,
 "nbformat_minor": 4
}
